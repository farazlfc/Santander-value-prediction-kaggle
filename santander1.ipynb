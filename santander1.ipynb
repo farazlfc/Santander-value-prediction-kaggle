{
 "cells": [
  {
   "cell_type": "code",
   "execution_count": 114,
   "metadata": {
    "_uuid": "380fbfbdf64d6b56fb70b875b64918ec30de6953"
   },
   "outputs": [],
   "source": [
    "import numpy as np\n",
    "import pandas as pd\n",
    "from sklearn.model_selection import KFold, train_test_split, StratifiedKFold\n",
    "from sklearn.ensemble import RandomForestRegressor, RandomForestClassifier\n",
    "from sklearn.preprocessing import MinMaxScaler\n",
    "from sklearn.metrics import mean_squared_error, roc_auc_score\n",
    "from sklearn.decomposition import PCA, TruncatedSVD, FastICA, FactorAnalysis\n",
    "from sklearn.random_projection import GaussianRandomProjection, SparseRandomProjection\n",
    "from sklearn.grid_search import GridSearchCV\n",
    "import lightgbm as lgb\n",
    "import xgboost as xgb\n",
    "from sklearn.preprocessing import scale, MinMaxScaler\n",
    "import seaborn as sns\n",
    "import matplotlib.pyplot as plt\n",
    "from scipy.stats import kurtosis\n",
    "import matplotlib.patches as mpatches"
   ]
  },
  {
   "cell_type": "code",
   "execution_count": 64,
   "metadata": {
    "_uuid": "4d887d130baba948ae59d902e55e6787dfcf1c4a"
   },
   "outputs": [],
   "source": [
    "train = pd.read_csv(r\"G:\\islr_datasets\\santander\\train.csv\", index_col = 0)\n",
    "test = pd.read_csv(r\"G:\\islr_datasets\\santander\\test.csv\", index_col = 0)"
   ]
  },
  {
   "cell_type": "code",
   "execution_count": 65,
   "metadata": {},
   "outputs": [
    {
     "data": {
      "text/html": [
       "<div>\n",
       "<style scoped>\n",
       "    .dataframe tbody tr th:only-of-type {\n",
       "        vertical-align: middle;\n",
       "    }\n",
       "\n",
       "    .dataframe tbody tr th {\n",
       "        vertical-align: top;\n",
       "    }\n",
       "\n",
       "    .dataframe thead th {\n",
       "        text-align: right;\n",
       "    }\n",
       "</style>\n",
       "<table border=\"1\" class=\"dataframe\">\n",
       "  <thead>\n",
       "    <tr style=\"text-align: right;\">\n",
       "      <th></th>\n",
       "      <th>target</th>\n",
       "      <th>48df886f9</th>\n",
       "      <th>0deb4b6a8</th>\n",
       "      <th>34b15f335</th>\n",
       "      <th>a8cb14b00</th>\n",
       "      <th>2f0771a37</th>\n",
       "      <th>30347e683</th>\n",
       "      <th>d08d1fbe3</th>\n",
       "      <th>6ee66e115</th>\n",
       "      <th>20aa07010</th>\n",
       "      <th>...</th>\n",
       "      <th>3ecc09859</th>\n",
       "      <th>9281abeea</th>\n",
       "      <th>8675bec0b</th>\n",
       "      <th>3a13ed79a</th>\n",
       "      <th>f677d4d13</th>\n",
       "      <th>71b203550</th>\n",
       "      <th>137efaa80</th>\n",
       "      <th>fb36b89d9</th>\n",
       "      <th>7e293fbaf</th>\n",
       "      <th>9fc776466</th>\n",
       "    </tr>\n",
       "    <tr>\n",
       "      <th>ID</th>\n",
       "      <th></th>\n",
       "      <th></th>\n",
       "      <th></th>\n",
       "      <th></th>\n",
       "      <th></th>\n",
       "      <th></th>\n",
       "      <th></th>\n",
       "      <th></th>\n",
       "      <th></th>\n",
       "      <th></th>\n",
       "      <th></th>\n",
       "      <th></th>\n",
       "      <th></th>\n",
       "      <th></th>\n",
       "      <th></th>\n",
       "      <th></th>\n",
       "      <th></th>\n",
       "      <th></th>\n",
       "      <th></th>\n",
       "      <th></th>\n",
       "      <th></th>\n",
       "    </tr>\n",
       "  </thead>\n",
       "  <tbody>\n",
       "    <tr>\n",
       "      <th>000d6aaf2</th>\n",
       "      <td>38000000.0</td>\n",
       "      <td>0.0</td>\n",
       "      <td>0</td>\n",
       "      <td>0.0</td>\n",
       "      <td>0</td>\n",
       "      <td>0</td>\n",
       "      <td>0</td>\n",
       "      <td>0</td>\n",
       "      <td>0</td>\n",
       "      <td>0.0</td>\n",
       "      <td>...</td>\n",
       "      <td>0.0</td>\n",
       "      <td>0.0</td>\n",
       "      <td>0.0</td>\n",
       "      <td>0</td>\n",
       "      <td>0</td>\n",
       "      <td>0</td>\n",
       "      <td>0</td>\n",
       "      <td>0</td>\n",
       "      <td>0</td>\n",
       "      <td>0</td>\n",
       "    </tr>\n",
       "    <tr>\n",
       "      <th>000fbd867</th>\n",
       "      <td>600000.0</td>\n",
       "      <td>0.0</td>\n",
       "      <td>0</td>\n",
       "      <td>0.0</td>\n",
       "      <td>0</td>\n",
       "      <td>0</td>\n",
       "      <td>0</td>\n",
       "      <td>0</td>\n",
       "      <td>0</td>\n",
       "      <td>2200000.0</td>\n",
       "      <td>...</td>\n",
       "      <td>0.0</td>\n",
       "      <td>0.0</td>\n",
       "      <td>0.0</td>\n",
       "      <td>0</td>\n",
       "      <td>0</td>\n",
       "      <td>0</td>\n",
       "      <td>0</td>\n",
       "      <td>0</td>\n",
       "      <td>0</td>\n",
       "      <td>0</td>\n",
       "    </tr>\n",
       "    <tr>\n",
       "      <th>0027d6b71</th>\n",
       "      <td>10000000.0</td>\n",
       "      <td>0.0</td>\n",
       "      <td>0</td>\n",
       "      <td>0.0</td>\n",
       "      <td>0</td>\n",
       "      <td>0</td>\n",
       "      <td>0</td>\n",
       "      <td>0</td>\n",
       "      <td>0</td>\n",
       "      <td>0.0</td>\n",
       "      <td>...</td>\n",
       "      <td>0.0</td>\n",
       "      <td>0.0</td>\n",
       "      <td>0.0</td>\n",
       "      <td>0</td>\n",
       "      <td>0</td>\n",
       "      <td>0</td>\n",
       "      <td>0</td>\n",
       "      <td>0</td>\n",
       "      <td>0</td>\n",
       "      <td>0</td>\n",
       "    </tr>\n",
       "    <tr>\n",
       "      <th>0028cbf45</th>\n",
       "      <td>2000000.0</td>\n",
       "      <td>0.0</td>\n",
       "      <td>0</td>\n",
       "      <td>0.0</td>\n",
       "      <td>0</td>\n",
       "      <td>0</td>\n",
       "      <td>0</td>\n",
       "      <td>0</td>\n",
       "      <td>0</td>\n",
       "      <td>0.0</td>\n",
       "      <td>...</td>\n",
       "      <td>0.0</td>\n",
       "      <td>0.0</td>\n",
       "      <td>0.0</td>\n",
       "      <td>0</td>\n",
       "      <td>0</td>\n",
       "      <td>0</td>\n",
       "      <td>0</td>\n",
       "      <td>0</td>\n",
       "      <td>0</td>\n",
       "      <td>0</td>\n",
       "    </tr>\n",
       "    <tr>\n",
       "      <th>002a68644</th>\n",
       "      <td>14400000.0</td>\n",
       "      <td>0.0</td>\n",
       "      <td>0</td>\n",
       "      <td>0.0</td>\n",
       "      <td>0</td>\n",
       "      <td>0</td>\n",
       "      <td>0</td>\n",
       "      <td>0</td>\n",
       "      <td>0</td>\n",
       "      <td>2000000.0</td>\n",
       "      <td>...</td>\n",
       "      <td>0.0</td>\n",
       "      <td>0.0</td>\n",
       "      <td>0.0</td>\n",
       "      <td>0</td>\n",
       "      <td>0</td>\n",
       "      <td>0</td>\n",
       "      <td>0</td>\n",
       "      <td>0</td>\n",
       "      <td>0</td>\n",
       "      <td>0</td>\n",
       "    </tr>\n",
       "  </tbody>\n",
       "</table>\n",
       "<p>5 rows × 4992 columns</p>\n",
       "</div>"
      ],
      "text/plain": [
       "               target  48df886f9  0deb4b6a8  34b15f335  a8cb14b00  2f0771a37  \\\n",
       "ID                                                                             \n",
       "000d6aaf2  38000000.0        0.0          0        0.0          0          0   \n",
       "000fbd867    600000.0        0.0          0        0.0          0          0   \n",
       "0027d6b71  10000000.0        0.0          0        0.0          0          0   \n",
       "0028cbf45   2000000.0        0.0          0        0.0          0          0   \n",
       "002a68644  14400000.0        0.0          0        0.0          0          0   \n",
       "\n",
       "           30347e683  d08d1fbe3  6ee66e115  20aa07010    ...      3ecc09859  \\\n",
       "ID                                                       ...                  \n",
       "000d6aaf2          0          0          0        0.0    ...            0.0   \n",
       "000fbd867          0          0          0  2200000.0    ...            0.0   \n",
       "0027d6b71          0          0          0        0.0    ...            0.0   \n",
       "0028cbf45          0          0          0        0.0    ...            0.0   \n",
       "002a68644          0          0          0  2000000.0    ...            0.0   \n",
       "\n",
       "           9281abeea  8675bec0b  3a13ed79a  f677d4d13  71b203550  137efaa80  \\\n",
       "ID                                                                            \n",
       "000d6aaf2        0.0        0.0          0          0          0          0   \n",
       "000fbd867        0.0        0.0          0          0          0          0   \n",
       "0027d6b71        0.0        0.0          0          0          0          0   \n",
       "0028cbf45        0.0        0.0          0          0          0          0   \n",
       "002a68644        0.0        0.0          0          0          0          0   \n",
       "\n",
       "           fb36b89d9  7e293fbaf  9fc776466  \n",
       "ID                                          \n",
       "000d6aaf2          0          0          0  \n",
       "000fbd867          0          0          0  \n",
       "0027d6b71          0          0          0  \n",
       "0028cbf45          0          0          0  \n",
       "002a68644          0          0          0  \n",
       "\n",
       "[5 rows x 4992 columns]"
      ]
     },
     "execution_count": 65,
     "metadata": {},
     "output_type": "execute_result"
    }
   ],
   "source": [
    "train.head()"
   ]
  },
  {
   "cell_type": "code",
   "execution_count": 66,
   "metadata": {
    "_uuid": "8c44678c83d841051d56101e5d51f1e108818ea6"
   },
   "outputs": [],
   "source": [
    "Y_train = train.target\n",
    "Y_train = np.log1p(Y_train)\n",
    "test_ID = test.index\n",
    "\n",
    "train = train.drop(['target'], 1)"
   ]
  },
  {
   "cell_type": "markdown",
   "metadata": {
    "_uuid": "a4d0c210f7c18e7066b343b60bd54b3d671aa56b"
   },
   "source": [
    "### **Removing duplicate columns**"
   ]
  },
  {
   "cell_type": "code",
   "execution_count": 67,
   "metadata": {
    "_uuid": "f3e8683bf91aed963057421e5969bceaa36c1527"
   },
   "outputs": [],
   "source": [
    "#train_without_duplicates = train.T.drop_duplicates().T\n",
    "#columns_not_to_be_dropped = train_without_duplicates.columns\n",
    "#columns_to_be_dropped = [col for col in test.columns if col not in columns_not_to_be_dropped]"
   ]
  },
  {
   "cell_type": "code",
   "execution_count": 68,
   "metadata": {
    "_uuid": "7cb5276795e2a7890ab6567ce815dcf979db063c"
   },
   "outputs": [],
   "source": [
    "#test_without_duplicates = test.drop(columns_to_be_dropped, 1)"
   ]
  },
  {
   "cell_type": "code",
   "execution_count": 69,
   "metadata": {
    "_uuid": "a09afdd2af466cacf95c7aae03ca4d5cb31b83c8"
   },
   "outputs": [],
   "source": [
    "#train_without_duplicates.shape, test_without_duplicates.shape"
   ]
  },
  {
   "cell_type": "markdown",
   "metadata": {
    "_uuid": "8768b17f71f7ab6c4e0d552caec2d58ae3bafab3"
   },
   "source": [
    "### **Removing columns with constant values**"
   ]
  },
  {
   "cell_type": "code",
   "execution_count": 70,
   "metadata": {
    "_uuid": "101a57167abfd7e3a90c7b2f785bf0492bf1758a"
   },
   "outputs": [],
   "source": [
    "col_with_std_zero = train.loc[:, train.std(axis = 0) == 0].columns\n",
    "train2 = train.loc[:, train.std(axis = 0) != 0]\n",
    "test2 = test.drop(col_with_std_zero, 1)"
   ]
  },
  {
   "cell_type": "code",
   "execution_count": 71,
   "metadata": {
    "_uuid": "1df6b3c99494fdf8bbe63d6ca144f9b3f4b9873b"
   },
   "outputs": [],
   "source": [
    "test2.fillna(train2.median(),inplace = True)"
   ]
  },
  {
   "cell_type": "code",
   "execution_count": 72,
   "metadata": {
    "_uuid": "e430fc1117e516425408ebef2de16daab55ab55a"
   },
   "outputs": [],
   "source": [
    "total_df = pd.concat([train2, test2])"
   ]
  },
  {
   "cell_type": "markdown",
   "metadata": {},
   "source": [
    "# Scaling columns with major outliers"
   ]
  },
  {
   "cell_type": "code",
   "execution_count": 12,
   "metadata": {},
   "outputs": [],
   "source": [
    "for col in total_df.columns:    \n",
    "    \n",
    "\n",
    "    # Detect outliers in this column\n",
    "    data = total_df[col].values\n",
    "    data_mean, data_std = np.mean(data), np.std(data)\n",
    "    cut_off = data_std * 3\n",
    "    lower, upper = data_mean - cut_off, data_mean + cut_off\n",
    "    outliers = [x for x in data if x < lower or x > upper]\n",
    "    \n",
    "    # If there are crazy high values, do a log-transform\n",
    "    if len(outliers) > 0:\n",
    "        non_zero_idx = data != 0\n",
    "        total_df.loc[non_zero_idx, col] = np.log(data[non_zero_idx])\n",
    "    \n",
    "    # Scale non-zero column values\n",
    "    nonzero_rows = total_df[col] != 0\n",
    "    if  np.isfinite(total_df.loc[nonzero_rows, col]).all():\n",
    "        total_df.loc[nonzero_rows, col] = scale(total_df.loc[nonzero_rows, col])\n",
    "        if  np.isfinite(total_df[col]).all():\n",
    "            # Scale all column values\n",
    "            total_df[col] = scale(total_df[col])"
   ]
  },
  {
   "cell_type": "markdown",
   "metadata": {},
   "source": [
    "# Checking distribution of target values"
   ]
  },
  {
   "cell_type": "code",
   "execution_count": 136,
   "metadata": {},
   "outputs": [
    {
     "name": "stderr",
     "output_type": "stream",
     "text": [
      "G:\\anaconda\\envs\\tensorflow\\lib\\site-packages\\matplotlib\\axes\\_axes.py:6462: UserWarning: The 'normed' kwarg is deprecated, and has been replaced by the 'density' kwarg.\n",
      "  warnings.warn(\"The 'normed' kwarg is deprecated, and has been \"\n",
      "G:\\anaconda\\envs\\tensorflow\\lib\\site-packages\\matplotlib\\axes\\_axes.py:6462: UserWarning: The 'normed' kwarg is deprecated, and has been replaced by the 'density' kwarg.\n",
      "  warnings.warn(\"The 'normed' kwarg is deprecated, and has been \"\n"
     ]
    },
    {
     "data": {
      "image/png": "[encoded data removed]",
      "text/plain": [
       "<Figure size 576x576 with 1 Axes>"
      ]
     },
     "metadata": {},
     "output_type": "display_data"
    }
   ],
   "source": [
    "c = Y_train.value_counts()\n",
    "plt.figure(figsize=(8,8))\n",
    "sns.distplot(c[c>1].index,bins = 50,color = 'blue')\n",
    "sns.distplot(c[c==1].index,bins = 50 , color ='red')\n",
    "patch1 = mpatches.Patch(color='red', label='count=1')\n",
    "patch2 = mpatches.Patch(color='blue', label='count>1')\n",
    "plt.legend(handles=[patch1,patch2])\n",
    "plt.rcParams[\"legend.fontsize\"] = 14\n",
    "plt.show()"
   ]
  },
  {
   "cell_type": "raw",
   "metadata": {},
   "source": [
    "# The number of unique values in the target variable is way less than the number of observarions. Also , for unique values and non unique ones ,the distribution is different."
   ]
  },
  {
   "cell_type": "code",
   "execution_count": null,
   "metadata": {},
   "outputs": [],
   "source": [
    "train2,test2 = total_df.iloc[:len(train2),:],total_df.iloc[len(train2):,:]"
   ]
  },
  {
   "cell_type": "code",
   "execution_count": 137,
   "metadata": {},
   "outputs": [],
   "source": [
    "def select_features_using_sparsity(x_train,x_test):\n",
    "    train = ((x_train != 0).sum(axis = 0))/float(len(x_train))\n",
    "    test = ((x_test !=0).sum(axis = 0))/float(len(x_test))\n",
    "    plt.scatter(train.values,test.values,2)\n",
    "    plt.xlabel('fraction of non zero train data')\n",
    "    plt.ylabel('fraction of non zero test data')\n",
    "    plt.show()"
   ]
  },
  {
   "cell_type": "code",
   "execution_count": 91,
   "metadata": {},
   "outputs": [
    {
     "data": {
      "image/png": "[encoded data removed]",
      "text/plain": [
       "<Figure size 432x288 with 1 Axes>"
      ]
     },
     "metadata": {},
     "output_type": "display_data"
    },
    {
     "name": "stdout",
     "output_type": "stream",
     "text": [
      "Wall time: 7.9 s\n"
     ]
    }
   ],
   "source": [
    "%%time\n",
    "select_features_using_sparsity(train2,test2)"
   ]
  },
  {
   "cell_type": "raw",
   "metadata": {},
   "source": [
    "# Some 40 odd features in the least dense cluster."
   ]
  },
  {
   "cell_type": "code",
   "execution_count": 100,
   "metadata": {},
   "outputs": [
    {
     "name": "stdout",
     "output_type": "stream",
     "text": [
      "40\n"
     ]
    }
   ],
   "source": [
    "train = ((train2 != 0).sum(axis = 0))/float(len(train2))\n",
    "sparse_cols = train[train>0.25].index\n",
    "print(len(sparse_cols))"
   ]
  },
  {
   "cell_type": "code",
   "execution_count": 103,
   "metadata": {},
   "outputs": [],
   "source": [
    "def filter_using_cols(x_train,x_test,cols):\n",
    "    if (set(cols) < set(x_train.columns)) & (set(cols) < set(x_test.columns)) :\n",
    "        return x_train[cols],x_test[cols]\n",
    "    else:\n",
    "        print(\"These columns do not exist in the dataframe\")"
   ]
  },
  {
   "cell_type": "markdown",
   "metadata": {
    "_uuid": "74073d78bb1e749d199eda2d5b95eed5c75cc625"
   },
   "source": [
    "# Removing features by importance and create transformations of n most important features."
   ]
  },
  {
   "cell_type": "code",
   "execution_count": 47,
   "metadata": {
    "_uuid": "8306e418df46991d137f401ec4cac5485619d348"
   },
   "outputs": [],
   "source": [
    "def remove_features_using_importance(x_train, y_train, x_test):\n",
    "    \n",
    "    def rmsle(actual, predicted):\n",
    "        return np.sqrt(np.mean(np.power(np.log1p(actual)-np.log1p(predicted), 2)))\n",
    "    \n",
    "    num_of_features = 1000\n",
    "    \n",
    "    print(\"Split train and test\")\n",
    "    x1, x2, y1, y2 = train_test_split(x_train, y_train, test_size = 0.20, random_state = 42)\n",
    "    model = RandomForestRegressor(n_jobs = -1, random_state = 7)\n",
    "    model.fit(x1, y1)\n",
    "    print(rmsle(np.expm1(y2), np.expm1(model.predict(x2))))\n",
    "    \n",
    "    print(\"Get columns by feature importances\")\n",
    "    col_df = pd.DataFrame({'importance': model.feature_importances_, 'feature': x_train.columns})\n",
    "    col_df_sorted = col_df.sort_values(by = ['importance'], ascending = [False])\n",
    "    columns = col_df_sorted[:num_of_features]['feature'].values\n",
    "    \n",
    "    \n",
    "    \n",
    "    x_train = x_train[columns]\n",
    "    x_test = x_test[columns]\n",
    "    \n",
    "    for j in columns[:30]:\n",
    "        x_train['square' + str(j)] = x_train[j]**2\n",
    "        x_test['square' + str(j)] = x_test[j]**2\n",
    "        x_train['cube' + str(j)] = x_train[j]**3\n",
    "        x_test['cube' + str(j)] = x_test[j]**3\n",
    "        x_train['sqrt' + str(j)] = x_test[j]**0.5\n",
    "        x_test['sqrt' + str(j)] = x_test[j]**0.5\n",
    "    \n",
    "    return x_train, x_test"
   ]
  },
  {
   "cell_type": "markdown",
   "metadata": {
    "_uuid": "bc41d8b615f0682a023fb9239878d3d23947f236"
   },
   "source": [
    "### **Removing features having different distributions in train and test set**"
   ]
  },
  {
   "cell_type": "code",
   "execution_count": 48,
   "metadata": {
    "_uuid": "db320323a5e2438eaf6f025704a4d3487ecf4784"
   },
   "outputs": [],
   "source": [
    "def remove_features_having_different_distributions(train, test):\n",
    "    return"
   ]
  },
  {
   "cell_type": "markdown",
   "metadata": {
    "_uuid": "9d4c6567dc8f3c050b4c45ae6ffb65a71cdb4419"
   },
   "source": [
    "### **Adding aggregate features**"
   ]
  },
  {
   "cell_type": "code",
   "execution_count": 50,
   "metadata": {
    "_uuid": "62e19e11fa69d6f862c74494a1e0b24b874131e0"
   },
   "outputs": [],
   "source": [
    "def add_row_features(train, test):\n",
    "    weight = ((train != 0).sum()/len(train)).values\n",
    "    \n",
    "    tmp_train = train[train != 0]\n",
    "    tmp_test = test[test != 0]\n",
    "\n",
    "    print(\"Adding row features.....\")\n",
    "    \n",
    "    print(\"weight count\")\n",
    "    train[\"weight_count\"] = (tmp_train * weight).sum(axis = 1)\n",
    "    test[\"weight_count\"] = (tmp_test * weight).sum(axis = 1)\n",
    "    \n",
    "    print(\"number of non-zero values\")\n",
    "    train[\"count_non_0\"] = (train != 0).sum(axis = 1)\n",
    "    test[\"count_non_0\"] = (test != 0).sum(axis = 1)\n",
    "    \n",
    "    print(\"number of different\")\n",
    "    train[\"num_different\"] = tmp_train.nunique(axis = 1)\n",
    "    test[\"num_different\"] = tmp_test.nunique(axis = 1)\n",
    "    \n",
    "    print(\"sum\")\n",
    "    train[\"sum\"] = train.sum(axis=1)\n",
    "    test[\"sum\"] = test.sum(axis=1)\n",
    "\n",
    "    print(\"variance\")\n",
    "    train[\"var\"] = tmp_train.var(axis=1)\n",
    "    test[\"var\"] = tmp_test.var(axis=1)\n",
    "\n",
    "    print(\"mean\")\n",
    "    train[\"mean\"] = tmp_train.mean(axis=1)\n",
    "    test[\"mean\"] = tmp_test.mean(axis=1)\n",
    "    \n",
    "    print(\"median\")\n",
    "    train[\"median\"] = tmp_train.median(axis=1)\n",
    "    test[\"median\"] = tmp_test.median(axis=1)\n",
    "\n",
    "    print(\"std\")\n",
    "    train[\"std\"] = tmp_train.std(axis=1)\n",
    "    test[\"std\"] = tmp_test.std(axis=1)\n",
    "\n",
    "    print(\"max\")\n",
    "    train[\"max\"] = tmp_train.max(axis=1)\n",
    "    test[\"max\"] = tmp_test.max(axis=1)\n",
    "\n",
    "    print(\"min\")\n",
    "    train[\"min\"] = tmp_train.min(axis=1)\n",
    "    test[\"min\"] = tmp_test.min(axis=1)\n",
    "    \n",
    "    train['the_kur'] = tmp_train.kurtosis(axis=1)\n",
    "    test['the_kur'] = tmp_test.kurtosis(axis=1)\n",
    "    print(\"\\nTrain shape: {}\\nTest shape: {}\".format(train.shape, test.shape))\n",
    "    \n",
    "    # Remove an NA valuess\n",
    "    train = train.fillna(0)\n",
    "    test = test.fillna(0)\n",
    "    \n",
    "    del(tmp_train)\n",
    "    del(tmp_test)\n",
    "    return train, test"
   ]
  },
  {
   "cell_type": "markdown",
   "metadata": {
    "_uuid": "39cb6da2afc999afde946f44dfb2022d6bd94419"
   },
   "source": [
    "### **Add dimensional reduction features back to dataset**"
   ]
  },
  {
   "cell_type": "code",
   "execution_count": 51,
   "metadata": {
    "_uuid": "762a9b168c9d6a7cd6ede15cbddb981c216ca541"
   },
   "outputs": [],
   "source": [
    "def add_decomposed_features_back_to_df(train, \n",
    "                                       test,\n",
    "                                       total,\n",
    "                                       n_components = 10,\n",
    "                                       use_pca = False,\n",
    "                                       use_tsvd = False,\n",
    "                                       use_ica = False,\n",
    "                                       use_fa = False,\n",
    "                                       use_grp = False,\n",
    "                                       use_srp = False):\n",
    "    N_COMP = n_components\n",
    "    ntrain = len(train)\n",
    "\n",
    "    print(\"\\nStart decomposition process...\")\n",
    "    \n",
    "    if use_pca:\n",
    "        print(\"PCA\")\n",
    "        pca = PCA(n_components = N_COMP, random_state = 42)\n",
    "        pca_results = pca.fit_transform(total)\n",
    "        pca_results_train = pca_results[:ntrain]\n",
    "        pca_results_test = pca_results[ntrain:]\n",
    "\n",
    "    if use_tsvd:\n",
    "        print(\"tSVD\")\n",
    "        tsvd = TruncatedSVD(n_components = N_COMP, random_state=42)\n",
    "        tsvd_results = tsvd.fit_transform(total)\n",
    "        tsvd_results_train = tsvd_results[:ntrain]\n",
    "        tsvd_results_test = tsvd_results[ntrain:]\n",
    "\n",
    "    if use_ica:\n",
    "        print(\"ICA\")\n",
    "        ica = FastICA(n_components = N_COMP, random_state=42)\n",
    "        ica_results = ica.fit_transform(total)\n",
    "        ica_results_train = ica_results[:ntrain]\n",
    "        ica_results_test = ica_results[ntrain:]\n",
    "\n",
    "    if use_fa:\n",
    "        print(\"FA\")\n",
    "        fa = FactorAnalysis(n_components = N_COMP, random_state=42)\n",
    "        fa_results = fa.fit_transform(total)\n",
    "        fa_results_train = fa_results[:ntrain]\n",
    "        fa_results_test = fa_results[ntrain:]\n",
    "\n",
    "    if use_grp:\n",
    "        print(\"GRP\")\n",
    "        grp = GaussianRandomProjection(n_components = N_COMP, eps=0.1, random_state=42)\n",
    "        grp_results = grp.fit_transform(total)\n",
    "        grp_results_train = grp_results[:ntrain]\n",
    "        grp_results_test = grp_results[ntrain:]\n",
    "\n",
    "    if use_srp:\n",
    "        print(\"SRP\")\n",
    "        srp = SparseRandomProjection(n_components = N_COMP, dense_output=True, random_state=42)\n",
    "        srp_results = srp.fit_transform(total)\n",
    "        srp_results_train = srp_results[:ntrain]\n",
    "        srp_results_test = srp_results[ntrain:]\n",
    "\n",
    "    print(\"Append decomposition components to datasets...\")\n",
    "    for i in range(1, N_COMP + 1):\n",
    "        \n",
    "        if use_pca:\n",
    "            train['pca_' + str(i)] = pca_results_train[:, i - 1]\n",
    "            test['pca_' + str(i)] = pca_results_test[:, i - 1]\n",
    "        \n",
    "        if use_tsvd:\n",
    "            train['tsvd_' + str(i)] = tsvd_results_train[:, i - 1]\n",
    "            test['tsvd_' + str(i)] = tsvd_results_test[:, i - 1]\n",
    "        \n",
    "        if use_ica:\n",
    "            train['ica_' + str(i)] = ica_results_train[:, i - 1]\n",
    "            test['ica_' + str(i)] = ica_results_test[:, i - 1]\n",
    "        \n",
    "        if use_fa:\n",
    "            train['fa_' + str(i)] = fa_results_train[:, i - 1]\n",
    "            test['fa_' + str(i)] = fa_results_test[:, i - 1]\n",
    "\n",
    "        if use_grp:\n",
    "            train['grp_' + str(i)] = grp_results_train[:, i - 1]\n",
    "            test['grp_' + str(i)] = grp_results_test[:, i - 1]\n",
    "        \n",
    "        if use_srp:\n",
    "            train['srp_' + str(i)] = srp_results_train[:, i - 1]\n",
    "            test['srp_' + str(i)] = srp_results_test[:, i - 1]\n",
    "    print(\"\\nTrain shape: {}\\nTest shape: {}\".format(train.shape, test.shape))\n",
    "    \n",
    "    return train, test"
   ]
  },
  {
   "cell_type": "markdown",
   "metadata": {
    "_uuid": "08034d1f450e20f08ab0aebbcce6666e8016d4c9"
   },
   "source": [
    "### **Building a new dataframe with the dimensional reduction rechniques**"
   ]
  },
  {
   "cell_type": "code",
   "execution_count": 52,
   "metadata": {
    "_uuid": "25100d3a6cf14c526502e5d376f9039bde43086c"
   },
   "outputs": [],
   "source": [
    "def use_decomposed_features_as_new_df(train, \n",
    "                                      test,\n",
    "                                      total,\n",
    "                                      n_components,\n",
    "                                      use_pca = False,\n",
    "                                      use_tsvd = False,\n",
    "                                      use_ica = False,\n",
    "                                      use_fa = False,\n",
    "                                      use_grp = False,\n",
    "                                      use_srp = False):\n",
    "    N_COMP = n_components\n",
    "    ntrain = len(train)\n",
    "\n",
    "    print(\"\\nStart decomposition process...\")\n",
    "    \n",
    "    if use_pca:\n",
    "        print(\"PCA\")\n",
    "        pca = PCA(n_components = N_COMP, random_state = 42)\n",
    "        pca_results = pca.fit_transform(total)\n",
    "        pca_results_train = pca_results[:ntrain]\n",
    "        pca_results_test = pca_results[ntrain:]\n",
    "\n",
    "    if use_tsvd:\n",
    "        print(\"tSVD\")\n",
    "        tsvd = TruncatedSVD(n_components = N_COMP, random_state=42,set_copy = False)\n",
    "        tsvd_results = tsvd.fit_transform(total)\n",
    "        tsvd_results_train = tsvd_results[:ntrain]\n",
    "        tsvd_results_test = tsvd_results[ntrain:]\n",
    "\n",
    "    if use_ica:\n",
    "        print(\"ICA\")\n",
    "        ica = FastICA(n_components = N_COMP, random_state=42)\n",
    "        ica_results = ica.fit_transform(total)\n",
    "        ica_results_train = ica_results[:ntrain]\n",
    "        ica_results_test = ica_results[ntrain:]\n",
    "\n",
    "    if use_fa:\n",
    "        print(\"FA\")\n",
    "        fa = FactorAnalysis(n_components = N_COMP, random_state=42)\n",
    "        fa_results = fa.fit_transform(total)\n",
    "        fa_results_train = fa_results[:ntrain]\n",
    "        fa_results_test = fa_results[ntrain:]\n",
    "\n",
    "    if use_grp:\n",
    "        print(\"GRP\")\n",
    "        grp = GaussianRandomProjection(n_components = N_COMP, eps=0.1, random_state=42)\n",
    "        grp_results = grp.fit_transform(total)\n",
    "        grp_results_train = grp_results[:ntrain]\n",
    "        grp_results_test = grp_results[ntrain:]\n",
    "\n",
    "    if use_srp:\n",
    "        print(\"SRP\")\n",
    "        srp = SparseRandomProjection(n_components = N_COMP, dense_output=True, random_state=42)\n",
    "        srp_results = srp.fit_transform(total)\n",
    "        srp_results_train = srp_results[:ntrain]\n",
    "        srp_results_test = srp_results[ntrain:]\n",
    "        \n",
    "    print(\"Append decomposition components together...\")\n",
    "    train_decomposed = np.concatenate([srp_results_train, grp_results_train, ica_results_train, pca_results_train, tsvd_results_train], axis=1)\n",
    "    test_decomposed = np.concatenate([srp_results_test, grp_results_test, ica_results_test, pca_results_test, tsvd_results_test], axis=1)\n",
    "\n",
    "    train_with_only_decomposed_features = pd.DataFrame(train_decomposed)\n",
    "    test_with_only_decomposed_features = pd.DataFrame(test_decomposed)\n",
    "    \n",
    "    for agg_col in ['sum', 'var', 'mean', 'median', 'std', 'weight_count', 'count_non_0', 'num_different', 'max', 'min']:\n",
    "        train_with_only_decomposed_features[col] = train[col]\n",
    "        test_with_only_decomposed_features[col] = test[col]\n",
    "    \n",
    "    # Remove any NA\n",
    "    train_with_only_decomposed_features = train_with_only_decomposed_features.fillna(0)\n",
    "    test_with_only_decomposed_features = test_with_only_decomposed_features.fillna(0)\n",
    "    \n",
    "    return train_with_only_decomposed_features, test_with_only_decomposed_features"
   ]
  },
  {
   "cell_type": "markdown",
   "metadata": {
    "_uuid": "7255bcc674c425e8599ac1429776ff509ab3ddec"
   },
   "source": [
    "### **Build validation set using adversarial validation**"
   ]
  },
  {
   "cell_type": "code",
   "execution_count": 109,
   "metadata": {
    "_uuid": "30eb70e8cf9606439193442c4bb4df68355535fc"
   },
   "outputs": [],
   "source": [
    "def generate_adversarial_validation_set(train, test):\n",
    "    x_test = test.drop([\"is_test\", \"target\"], 1)\n",
    "\n",
    "    train, val = train.iloc[1000:], train.iloc[:1000]\n",
    "    train = train.drop([\"is_test\", \"predicted_probs\"], 1)\n",
    "    val = val.drop([\"is_test\", \"predicted_probs\"], 1)\n",
    "\n",
    "    x_train, y_train = train.drop(\"target\", 1), train.target\n",
    "    x_val, y_val = val.drop(\"target\", 1), val.target\n",
    "    \n",
    "    return x_train, y_train, x_val, y_val, x_test\n",
    "\n",
    "def get_training_set_with_test_set_similarity_predictions(X_train, Y_train, X_test):\n",
    "    \n",
    "    print(\"Add target column\")\n",
    "    X_train['target'] = Y_train\n",
    "    X_test['target'] = 0\n",
    "    \n",
    "    X_train[\"is_test\"] = 0\n",
    "    X_test[\"is_test\"] = 1\n",
    "    assert(np.all(X_train.columns == X_test.columns))\n",
    "    \n",
    "    print(\"Concat train and test data\")\n",
    "    total = pd.concat([X_train, X_test])\n",
    "    total = total.fillna(0)\n",
    "    \n",
    "    x = total.drop([\"is_test\", \"target\"], axis = 1)\n",
    "    y = total.is_test\n",
    "    \n",
    "    print(\"Start cross-validating\")\n",
    "    n_estimators = 100\n",
    "    classifier = RandomForestClassifier(n_estimators = n_estimators, n_jobs = -1)\n",
    "    predictions = np.zeros(y.shape)\n",
    "    \n",
    "    stratified_kfold = StratifiedKFold(n_splits = 5, shuffle = True, random_state = 5678)\n",
    "    \n",
    "    for fold_index, (train_indices, test_indices) in enumerate(stratified_kfold.split(x, y)):\n",
    "        print(\"Fold - \" + str(fold_index))\n",
    "        \n",
    "        x_train = x.iloc[train_indices]\n",
    "        y_train = y.iloc[train_indices]\n",
    "        x_test = x.iloc[test_indices]\n",
    "        y_test = y.iloc[test_indices]\n",
    "        \n",
    "        classifier.fit(x_train, y_train)\n",
    "        \n",
    "        predicted_probabilities = classifier.predict_proba(x_test)[:, 1]\n",
    "        \n",
    "        auc = roc_auc_score(y_test, predicted_probabilities)\n",
    "        print(\"AUC Score - \" + str(auc) + \"%\")\n",
    "        \n",
    "        predictions[test_indices] = predicted_probabilities\n",
    "    total['predicted_probs'] = predictions\n",
    "    \n",
    "    print(\"Generating training set\")\n",
    "    total = total[total.is_test == 0]\n",
    "    \n",
    "    print(\"Sorting according to predictions\")\n",
    "    train_set_with_predictions_for_test_set_similarity = total.sort_values([\"predicted_probs\"], ascending = False)\n",
    "    \n",
    "    return train_set_with_predictions_for_test_set_similarity, X_test"
   ]
  },
  {
   "cell_type": "markdown",
   "metadata": {
    "_uuid": "9ebbcb2d51d6d132506f9e3560b73514b1ba904f"
   },
   "source": [
    "### **Building the model**"
   ]
  },
  {
   "cell_type": "code",
   "execution_count": 54,
   "metadata": {
    "_uuid": "42d79b0b97eba6d0dc709df7cfa29a848f063ec3"
   },
   "outputs": [],
   "source": [
    "def run_lgb(x_train, y_train, x_val, y_val, x_test, test_ID):\n",
    "    \n",
    "    params = {\n",
    "        \"objective\" : \"regression\",\n",
    "        \"metric\" : \"rmse\",\n",
    "        \"num_leaves\" : 40,\n",
    "        \"learning_rate\" : 0.005,\n",
    "        \"bagging_fraction\" : 0.7,\n",
    "        \"feature_fraction\" : 0.5,\n",
    "        \"bagging_frequency\" : 5,\n",
    "        \"bagging_seed\" : 42,\n",
    "        \"verbosity\" : -1,\n",
    "        \"seed\": 42\n",
    "    }\n",
    "    \n",
    "    lgtrain = lgb.Dataset(x_train, label = y_train)\n",
    "    lgval = lgb.Dataset(x_val, label = y_val)\n",
    "    evals_result = {}\n",
    "    model = lgb.train(params, lgtrain, 5000, \n",
    "                      valid_sets = [lgval], \n",
    "                      early_stopping_rounds = 100, \n",
    "                      verbose_eval = 50, \n",
    "                      evals_result = evals_result)\n",
    "    \n",
    "    y_pred_test = np.expm1(model.predict(x_test, num_iteration = model.best_iteration))\n",
    "    print(\"LightGBM Training Completed...\")\n",
    "\n",
    "\n",
    "    sub = pd.DataFrame(y_pred_test)\n",
    "    sub.columns = ['target']\n",
    "    sub.insert(0, 'ID', test_ID)\n",
    "    print(sub.head())\n",
    "    sub.iloc[:-1,:].to_csv('predictions.csv', index = False)"
   ]
  },
  {
   "cell_type": "markdown",
   "metadata": {
    "_uuid": "60ad648a5dade14b680476ee5f24ccb76e54878c"
   },
   "source": [
    "### **Creating multiple submission files**"
   ]
  },
  {
   "cell_type": "code",
   "execution_count": 104,
   "metadata": {
    "_uuid": "f39694d792930831e1fc11bdba266ccb268a96a5"
   },
   "outputs": [],
   "source": [
    "train_with_features_by_importances, test_with_features_by_importances = filter_using_cols(train2.copy(),test2.copy(),sparse_cols)"
   ]
  },
  {
   "cell_type": "code",
   "execution_count": 105,
   "metadata": {
    "_uuid": "65b6f79e8dcbf30d75b06f1d5424519eb7130d24"
   },
   "outputs": [
    {
     "name": "stdout",
     "output_type": "stream",
     "text": [
      "Adding row features.....\n",
      "weight count\n",
      "number of non-zero values\n",
      "number of different\n",
      "sum\n",
      "variance\n",
      "mean\n",
      "median\n",
      "std\n",
      "max\n",
      "min\n",
      "\n",
      "Train shape: (4459, 51)\n",
      "Test shape: (49343, 51)\n"
     ]
    }
   ],
   "source": [
    "train_with_aggregate_features, test_with_aggregate_features = add_row_features(train_with_features_by_importances.copy(), \n",
    "                                                                               test_with_features_by_importances.copy())"
   ]
  },
  {
   "cell_type": "markdown",
   "metadata": {
    "_uuid": "c3f25f086de6ba5970123e2ed81a175c20480ec0"
   },
   "source": [
    "#### **1. Add row features and all decomposed features**"
   ]
  },
  {
   "cell_type": "code",
   "execution_count": 106,
   "metadata": {},
   "outputs": [
    {
     "name": "stdout",
     "output_type": "stream",
     "text": [
      "tSVD\n",
      "Append decomposition components to datasets...\n",
      "PCA\n",
      "Append decomposition components to datasets...\n",
      "Wall time: 4.11 s\n"
     ]
    }
   ],
   "source": [
    "%%time\n",
    "PERC_TRESHOLD = 0.98   ### Percentage of zeros in each feature ###\n",
    "N_COMP = 10            ### Number of decomposition components ###\n",
    "\n",
    "print(\"tSVD\")\n",
    "tsvd = TruncatedSVD(n_components=N_COMP, random_state=17)        \n",
    "tsvd_results_train = tsvd.fit_transform(train_with_aggregate_features)\n",
    "tsvd_results_test = tsvd.transform(test_with_aggregate_features)\n",
    "print(\"Append decomposition components to datasets...\")\n",
    "for i in range(1, N_COMP + 1):\n",
    "    train_with_aggregate_features['tsvd_' + str(i)] = tsvd_results_train[:, i - 1]\n",
    "    test_with_aggregate_features['tsvd_' + str(i)] = tsvd_results_test[:, i - 1]\n",
    "    \n",
    "print(\"PCA\")\n",
    "tsvd = PCA(n_components=N_COMP, random_state=17)        \n",
    "tsvd_results_train = tsvd.fit_transform(train_with_aggregate_features)\n",
    "tsvd_results_test = tsvd.transform(test_with_aggregate_features)\n",
    "print(\"Append decomposition components to datasets...\")\n",
    "for i in range(1, N_COMP + 1):\n",
    "    train_with_aggregate_features['tsvd_' + str(i)] = tsvd_results_train[:, i - 1]\n",
    "    test_with_aggregate_features['tsvd_' + str(i)] = tsvd_results_test[:, i - 1]\n"
   ]
  },
  {
   "cell_type": "code",
   "execution_count": 107,
   "metadata": {},
   "outputs": [],
   "source": [
    "X_train = train_with_aggregate_features.copy()\n",
    "X_test = test_with_aggregate_features.copy()"
   ]
  },
  {
   "cell_type": "code",
   "execution_count": 110,
   "metadata": {},
   "outputs": [
    {
     "name": "stdout",
     "output_type": "stream",
     "text": [
      "Add target column\n",
      "Concat train and test data\n",
      "Start cross-validating\n",
      "Fold - 0\n",
      "AUC Score - 0.9065628568325785%\n",
      "Fold - 1\n",
      "AUC Score - 0.8997078658679827%\n",
      "Fold - 2\n",
      "AUC Score - 0.9006072032413859%\n",
      "Fold - 3\n",
      "AUC Score - 0.9029611840419094%\n",
      "Fold - 4\n",
      "AUC Score - 0.9139125798361036%\n",
      "Generating training set\n",
      "Sorting according to predictions\n"
     ]
    }
   ],
   "source": [
    "training_set, testing_set = get_training_set_with_test_set_similarity_predictions(X_train.copy(), Y_train.copy(), X_test.copy())"
   ]
  },
  {
   "cell_type": "code",
   "execution_count": 111,
   "metadata": {},
   "outputs": [
    {
     "name": "stdout",
     "output_type": "stream",
     "text": [
      "(3459, 61) (1000, 61) (49343, 61)\n"
     ]
    }
   ],
   "source": [
    "x_train, y_train, x_val, y_val, x_test = generate_adversarial_validation_set(training_set.copy(), testing_set.copy())\n",
    "print(x_train.shape, x_val.shape, x_test.shape)"
   ]
  },
  {
   "cell_type": "code",
   "execution_count": 112,
   "metadata": {},
   "outputs": [
    {
     "name": "stdout",
     "output_type": "stream",
     "text": [
      "Training until validation scores don't improve for 100 rounds.\n",
      "[50]\tvalid_0's rmse: 1.61207\n",
      "[100]\tvalid_0's rmse: 1.56216\n",
      "[150]\tvalid_0's rmse: 1.53207\n",
      "[200]\tvalid_0's rmse: 1.51654\n",
      "[250]\tvalid_0's rmse: 1.50836\n",
      "[300]\tvalid_0's rmse: 1.50458\n",
      "[350]\tvalid_0's rmse: 1.50341\n",
      "[400]\tvalid_0's rmse: 1.50287\n",
      "[450]\tvalid_0's rmse: 1.50361\n",
      "Early stopping, best iteration is:\n",
      "[364]\tvalid_0's rmse: 1.50272\n",
      "LightGBM Training Completed...\n",
      "          ID        target\n",
      "0  000137c73  1.946672e+06\n",
      "1  00021489f  1.946672e+06\n",
      "2  0004d7953  2.279491e+06\n",
      "3  00056a333  5.058332e+06\n",
      "4  00056d8eb  1.946672e+06\n"
     ]
    }
   ],
   "source": [
    "run_lgb(x_train, y_train, x_val, y_val, x_test, test_ID)"
   ]
  }
 ],
 "metadata": {
  "kernelspec": {
   "display_name": "Python 3",
   "language": "python",
   "name": "python3"
  },
  "language_info": {
   "codemirror_mode": {
    "name": "ipython",
    "version": 3
   },
   "file_extension": ".py",
   "mimetype": "text/x-python",
   "name": "python",
   "nbconvert_exporter": "python",
   "pygments_lexer": "ipython3",
   "version": "3.5.5"
  }
 },
 "nbformat": 4,
 "nbformat_minor": 1
}
